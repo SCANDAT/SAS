{
 "cells": [
  {
   "cell_type": "markdown",
   "metadata": {},
   "source": [
    "Simulate 10000 patients"
   ]
  },
  {
   "cell_type": "code",
   "execution_count": null,
   "metadata": {},
   "outputs": [],
   "source": [
    "data patients;\n",
    "format patientid 5. country $1. birthdate yymmdd10. sex  1. deathdate yymmdd10.;\n",
    "call streaminit(123); \n",
    "do patientid = 1 to 10000;\n",
    "\tbirthdate=\"01JAN1920\"d + floor((\"01JAN2019\"d-\"01JAN1920\"d) * rand(\"uniform\"));\n",
    "\tdeathdate=birthdate + floor((\"01JAN2019\"d-birthdate) * rand(\"uniform\"));\n",
    "\tif (deathdate-birthdate)/365.24 LT 30 then deathdate=.;\n",
    "\tcountry=\"S\";\n",
    "\tsex=rand(\"Uniform\");\n",
    "output;\n",
    "end;\n",
    "run;\n",
    "\n",
    "proc print data=patients(obs=10);\n",
    "run;"
   ]
  },
  {
   "cell_type": "markdown",
   "metadata": {},
   "source": [
    "import icd9se and icd10se codes and randomly pick 1000 of each"
   ]
  },
  {
   "cell_type": "code",
   "execution_count": null,
   "metadata": {},
   "outputs": [],
   "source": [
    "%inc \".\\icdkit.sas\";\n",
    "proc surveyselect data=icd9_ref out=icd9_sample METHOD=SRS noprint\n",
    "sampsize=1000 seed=1234567;\n",
    "RUN;\n",
    "\n",
    "proc sql noprint;\n",
    "SELECT  \"'\"!!kod!!\"'\"\n",
    "INTO: icd9 SEPARATED BY ','\n",
    "FROM icd9_sample;\n",
    "quit;\n",
    "\n",
    "proc surveyselect data=icd10_ref out=icd10_sample METHOD=SRS noprint\n",
    "sampsize=1000 seed=1234567;\n",
    "RUN;\n",
    "\n",
    "proc sql noprint;\n",
    "SELECT  \"'\"!!kod!!\"'\"\n",
    "INTO: icd10 SEPARATED BY ','\n",
    "FROM icd10_sample;\n",
    "quit;\n",
    "\n",
    "proc print data=icd9_sample(obs=10); var kod text; run;\n",
    "proc print data=icd10_sample(obs=10);run;"
   ]
  },
  {
   "cell_type": "markdown",
   "metadata": {},
   "source": [
    "create diagnosis table, randomly assign 10 x icd10 and 10 x icd9 diagnoses to each person"
   ]
  },
  {
   "cell_type": "code",
   "execution_count": null,
   "metadata": {},
   "outputs": [],
   "source": [
    "data diagnosis;\n",
    "set patients;\n",
    "format patientid 5. diagnosis $5. icd_version 2. country $1. diagnosis_date yymmdd10.;\n",
    "call streaminit(123);\n",
    "do i = 1 to 10;\n",
    "    diagnosis_date=birthdate + floor((min(deathdate, \"01JAN2019\"d)-birthdate) * rand(\"uniform\"));\n",
    "    diagnosis=ChooseC(ceil(Rand(\"uniform\") * 1000), &icd9);\n",
    "    icd_version=9;\n",
    "output;\n",
    "    diagnosis_date=birthdate + floor((min(deathdate, \"01JAN2019\"d)-birthdate) * rand(\"uniform\"));\n",
    "    diagnosis=ChooseC(ceil(Rand(\"uniform\") * 1000), &icd10);\n",
    "    icd_version=10;\n",
    "output;\n",
    "end;\n",
    "keep patientid diagnosis country icd_version diagnosis_date;\n",
    "run;\n",
    "\n",
    "proc print data=diagnosis(obs=10);run;"
   ]
  },
  {
   "cell_type": "markdown",
   "metadata": {},
   "source": [
    "run importICD"
   ]
  },
  {
   "cell_type": "code",
   "execution_count": null,
   "metadata": {
    "scrolled": false
   },
   "outputs": [],
   "source": [
    "%inc \".\\importicd3.sas\";\n",
    "%importicd(\"C:\\Users\\jinzha\\Documents\\SAS\\scandat3_SAS\\2. Importicd\\importicd_elixhauser.xlsx\", 9SE 10SE, icdvar=b.icd_version, mode=local);\n",
    "\n",
    "proc sql;\n",
    "create table patients_dia as \n",
    "select \n",
    "\ta.patientid,\n",
    "\ta.birthdate,\n",
    "\ta.deathdate,\n",
    "\tb.diagnosis,\n",
    "\tb.diagnosis_date,\n",
    "\ta.country,\n",
    "\tb.icd_version as icd\n",
    "from patients a left join diagnosis b on a.patientid=b.patientid and a.country=b.country\n",
    "where %unquote(&where);\n",
    "run;\n",
    "\n",
    "proc print data=patients_dia(obs=10);run;"
   ]
  },
  {
   "cell_type": "code",
   "execution_count": null,
   "metadata": {
    "scrolled": false
   },
   "outputs": [],
   "source": [
    "data patients_dia_group;\n",
    "set patients_dia;\n",
    "%unquote(&groupif);\n",
    "run;\n",
    "\n",
    "proc print data=patients_dia_group(obs=10);\n",
    "run;"
   ]
  },
  {
   "cell_type": "code",
   "execution_count": null,
   "metadata": {},
   "outputs": [],
   "source": [
    "proc freq data=patients_dia_group;\n",
    "format group groupdescription.;\n",
    "tables group;\n",
    "run;"
   ]
  }
 ],
 "metadata": {
  "kernelspec": {
   "display_name": "SAS",
   "language": "sas",
   "name": "sas"
  },
  "language_info": {
   "codemirror_mode": "sas",
   "file_extension": ".sas",
   "mimetype": "text/x-sas",
   "name": "sas"
  }
 },
 "nbformat": 4,
 "nbformat_minor": 2
}
